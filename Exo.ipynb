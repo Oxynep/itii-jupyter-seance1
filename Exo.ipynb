{
 "cells": [
  {
   "cell_type": "markdown",
   "metadata": {},
   "source": [
    "**Exo1 : Écrire un programme qui, à partir de la saisie d'un rayon et d'une hauteur, calcule le volume d'un cône droit.**"
   ]
  },
  {
   "cell_type": "markdown",
   "metadata": {},
   "source": [
    "Import de math pour PI"
   ]
  },
  {
   "cell_type": "code",
   "execution_count": 4,
   "metadata": {},
   "outputs": [],
   "source": [
    "import math\n",
    "import random"
   ]
  },
  {
   "cell_type": "markdown",
   "metadata": {},
   "source": [
    "Demande valeurs"
   ]
  },
  {
   "cell_type": "code",
   "execution_count": 2,
   "metadata": {},
   "outputs": [
    {
     "name": "stdout",
     "output_type": "stream",
     "text": [
      "Rayon ?5\n",
      "Hauteur ?5\n"
     ]
    }
   ],
   "source": [
    "R = int(input(\"Rayon ?\"))\n",
    "H = int(input(\"Hauteur ?\"))"
   ]
  },
  {
   "cell_type": "markdown",
   "metadata": {},
   "source": [
    "Calcul volume + affichage"
   ]
  },
  {
   "cell_type": "code",
   "execution_count": 3,
   "metadata": {},
   "outputs": [
    {
     "name": "stdout",
     "output_type": "stream",
     "text": [
      "130.89969389957471\n"
     ]
    }
   ],
   "source": [
    "V = (1/3) * math.pi * (R**2) * H\n",
    "print(V)"
   ]
  },
  {
   "cell_type": "markdown",
   "metadata": {},
   "source": [
    "**Exo 2 : Somme des cubes**  \n",
    "*1) Pour un entier n fixé, programmer le calcul de la somme S<sub>n</sub>=1<sup>3</sup>+2<sup>3</sup>+3<sup>3</sup>+···+n<sup>3</sup>"
   ]
  },
  {
   "cell_type": "markdown",
   "metadata": {},
   "source": [
    "Demande de n"
   ]
  },
  {
   "cell_type": "code",
   "execution_count": 4,
   "metadata": {},
   "outputs": [
    {
     "name": "stdout",
     "output_type": "stream",
     "text": [
      "Entier ?5\n"
     ]
    }
   ],
   "source": [
    "n = int(input(\"Entier ?\"))"
   ]
  },
  {
   "cell_type": "markdown",
   "metadata": {},
   "source": [
    "Calcul et affichage de la somme"
   ]
  },
  {
   "cell_type": "code",
   "execution_count": 5,
   "metadata": {},
   "outputs": [
    {
     "name": "stdout",
     "output_type": "stream",
     "text": [
      "225\n"
     ]
    }
   ],
   "source": [
    "somme = 0\n",
    "for i in range(1, n+1):\n",
    "    somme += (i**3)\n",
    "print(somme)"
   ]
  },
  {
   "cell_type": "markdown",
   "metadata": {},
   "source": [
    "2) Définir un programme qui pour une valeur n calcul la somme Σ<sub>n</sub>=1+2+3+···+n."
   ]
  },
  {
   "cell_type": "code",
   "execution_count": 6,
   "metadata": {},
   "outputs": [
    {
     "name": "stdout",
     "output_type": "stream",
     "text": [
      "Entier ?5\n",
      "15\n"
     ]
    }
   ],
   "source": [
    "n = int(input(\"Entier ?\"))\n",
    "somme = 0\n",
    "for i in range(1, n+1):\n",
    "    somme += i\n",
    "print(somme)"
   ]
  },
  {
   "cell_type": "markdown",
   "metadata": {},
   "source": [
    "**Ex 3 : manipulation des variables**    \n",
    "*1) Combien y-a-t-il d’occurrences du chiffre 1 dans les nombres de 1 à 999? Par exemple le chiffre 1 apparaît unefois dans 51 mais deux fois dans 131*"
   ]
  },
  {
   "cell_type": "markdown",
   "metadata": {},
   "source": [
    "Fonction de recherche du nombre d'occurence d'un chiffre dans un nombre"
   ]
  },
  {
   "cell_type": "code",
   "execution_count": 7,
   "metadata": {},
   "outputs": [],
   "source": [
    "def occuCh(nb, chiffre):\n",
    "    str_nb = str(nb)\n",
    "    occu = 0\n",
    "    for c in str_nb:\n",
    "        if c == '1':\n",
    "            occu+=1\n",
    "    return occu"
   ]
  },
  {
   "cell_type": "markdown",
   "metadata": {},
   "source": [
    "Test de la fonction"
   ]
  },
  {
   "cell_type": "code",
   "execution_count": 8,
   "metadata": {},
   "outputs": [
    {
     "name": "stdout",
     "output_type": "stream",
     "text": [
      "2\n"
     ]
    }
   ],
   "source": [
    "print(occuCh(101, 1))"
   ]
  },
  {
   "cell_type": "markdown",
   "metadata": {},
   "source": [
    "Automatisation pour une range"
   ]
  },
  {
   "cell_type": "code",
   "execution_count": 9,
   "metadata": {},
   "outputs": [
    {
     "name": "stdout",
     "output_type": "stream",
     "text": [
      "300\n"
     ]
    }
   ],
   "source": [
    "somme = 0\n",
    "for i in range(1, 999):\n",
    "    somme += occuCh(i, 1)\n",
    "print(somme)"
   ]
  },
  {
   "cell_type": "markdown",
   "metadata": {},
   "source": [
    "*2) Écrire une fonction qui calcule l’écriture décimale d’un entier, sans recourir au log (chiffre par chiffre)*"
   ]
  },
  {
   "cell_type": "code",
   "execution_count": 10,
   "metadata": {},
   "outputs": [
    {
     "name": "stdout",
     "output_type": "stream",
     "text": [
      "Entier ?5\n",
      "5\n"
     ]
    }
   ],
   "source": [
    "n = int(input(\"Entier ?\"))\n",
    "str_nb = str(n)\n",
    "for c in str_nb:\n",
    "    print(c)"
   ]
  },
  {
   "cell_type": "markdown",
   "metadata": {},
   "source": [
    "**Exo 4 : Aproximation de Pi Il est possible de calculer les premières décimales de π par la méthode de Monte-Carlo, c’est à dire avec l’aide du hasard. Soit la figure suivante : Si le carré rouge faite 1 de coté et le disque bleu 1 de diamètre, comment pouvez vous determiner une approxiamtion de π ?**\n",
    "\n",
    "![image.png](data:image/png;base64,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)\n"
   ]
  },
  {
   "cell_type": "code",
   "execution_count": 7,
   "metadata": {},
   "outputs": [
    {
     "name": "stdout",
     "output_type": "stream",
     "text": [
      "nombre de points ?10\n"
     ]
    }
   ],
   "source": [
    "nbPoint = int(input(\"nombre de points ?\"))\n",
    "nbCarre = 0\n",
    "nbCercle = 0\n",
    "for i in range(0, nbPoint):\n",
    "    x = random.random()\n",
    "    y = random.random()\n",
    "    dist = math.sqrt((x**2-0.25)**2 + (y**2-0.25)**2)\n",
    "    if dist < 1:\n",
    "        nbCercle+=1\n",
    "    else:\n",
    "        nbCarre+=1"
   ]
  }
 ],
 "metadata": {
  "kernelspec": {
   "display_name": "Python 3",
   "language": "python",
   "name": "python3"
  },
  "language_info": {
   "codemirror_mode": {
    "name": "ipython",
    "version": 3
   },
   "file_extension": ".py",
   "mimetype": "text/x-python",
   "name": "python",
   "nbconvert_exporter": "python",
   "pygments_lexer": "ipython3",
   "version": "3.7.6"
  }
 },
 "nbformat": 4,
 "nbformat_minor": 4
}
